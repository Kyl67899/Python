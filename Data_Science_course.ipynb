{
  "nbformat": 4,
  "nbformat_minor": 0,
  "metadata": {
    "colab": {
      "provenance": [],
      "collapsed_sections": [
        "XHRQQiKYPzJE",
        "FD4xNLM6QIew",
        "7DbEVy5JQTOJ",
        "GG0vDhRWQTc8",
        "qLRKXTjBQTo-",
        "wRivvXnpQWbB",
        "Cj7gtKPnHcE2",
        "1lVA9720HqB-",
        "IojqRhVSHvnH",
        "mRzKycS-H2OJ",
        "iQ11O9RiH7uS",
        "81AcdAePIAfY",
        "eokGVudNILLX",
        "E3qT--TyIPvT"
      ],
      "authorship_tag": "ABX9TyPxzw7menRA3DkcCE8OQ5XM",
      "include_colab_link": true
    },
    "kernelspec": {
      "name": "python3",
      "display_name": "Python 3"
    },
    "language_info": {
      "name": "python"
    }
  },
  "cells": [
    {
      "cell_type": "markdown",
      "metadata": {
        "id": "view-in-github",
        "colab_type": "text"
      },
      "source": [
        "<a href=\"https://colab.research.google.com/github/Kyl67899/Python/blob/work/Data_Science_course.ipynb\" target=\"_parent\"><img src=\"https://colab.research.google.com/assets/colab-badge.svg\" alt=\"Open In Colab\"/></a>"
      ]
    },
    {
      "cell_type": "markdown",
      "source": [
        "#Python\n",
        "## Credit to Ai Planet\n",
        "###modified by: Kyle Yarun Parsotan\n",
        "#### ALL RIGHTS ARE RESERVED"
      ],
      "metadata": {
        "id": "dqdwfR5fHKpe"
      }
    },
    {
      "cell_type": "markdown",
      "source": [
        "## Intro to Python Practice Week 0"
      ],
      "metadata": {
        "id": "IGZJTWviHNx5"
      }
    },
    {
      "cell_type": "markdown",
      "source": [
        "###"
      ],
      "metadata": {
        "id": "kBbC6363Vn6k"
      }
    },
    {
      "cell_type": "code",
      "source": [
        "print(\"Hello, DPhi! Today, I execute my very first Python program. Thanks!\")"
      ],
      "metadata": {
        "id": "xZarNoP9Kpd7",
        "colab": {
          "base_uri": "https://localhost:8080/"
        },
        "outputId": "d92828c6-aed1-4fcf-9db0-196edd7f5754"
      },
      "execution_count": null,
      "outputs": [
        {
          "output_type": "stream",
          "name": "stdout",
          "text": [
            "Hello, DPhi! Today, I execute my very first Python program. Thanks!\n"
          ]
        }
      ]
    },
    {
      "cell_type": "code",
      "source": [
        "a = \"Hello, World!\"\n",
        "print(a[-2])"
      ],
      "metadata": {
        "id": "t90CRpdGKpoa",
        "colab": {
          "base_uri": "https://localhost:8080/"
        },
        "outputId": "c3be0f3b-5dc3-447a-810c-857f33fd96f0"
      },
      "execution_count": null,
      "outputs": [
        {
          "output_type": "stream",
          "name": "stdout",
          "text": [
            "d\n"
          ]
        }
      ]
    },
    {
      "cell_type": "code",
      "source": [
        "#Print the First ten natural numbers using a while loop.\n",
        "list = [5, 4, 23, 10, 10000, 1]\n",
        "list.append(56)\n",
        "lists = list.count(5)\n",
        "lists\n",
        "print(len(list))\n",
        "list.sort()\n",
        "print(list)"
      ],
      "metadata": {
        "id": "QABhIU93Kps4",
        "colab": {
          "base_uri": "https://localhost:8080/"
        },
        "outputId": "94b64e39-4a18-425b-d72f-32d4375d44f2"
      },
      "execution_count": null,
      "outputs": [
        {
          "output_type": "stream",
          "name": "stdout",
          "text": [
            "7\n",
            "[1, 4, 5, 10, 23, 56, 10000]\n"
          ]
        }
      ]
    },
    {
      "cell_type": "markdown",
      "source": [
        "### For/while loops"
      ],
      "metadata": {
        "id": "XHRQQiKYPzJE"
      }
    },
    {
      "cell_type": "code",
      "source": [
        "#Print the First ten natural numbers using a while loop.\n",
        "x = 0\n",
        "while x < 11:\n",
        "  print(x)\n",
        "  x = x + 1"
      ],
      "metadata": {
        "colab": {
          "base_uri": "https://localhost:8080/"
        },
        "id": "7Gq5CsTdFovA",
        "outputId": "f875983f-d7b2-46d2-c124-e52ad02b70e8"
      },
      "execution_count": null,
      "outputs": [
        {
          "output_type": "stream",
          "name": "stdout",
          "text": [
            "0\n",
            "1\n",
            "2\n",
            "3\n",
            "4\n",
            "5\n",
            "6\n",
            "7\n",
            "8\n",
            "9\n",
            "10\n"
          ]
        }
      ]
    },
    {
      "cell_type": "code",
      "source": [
        "#Iterate over the following list and print the elements:\n",
        "#list1 = [12, 15, 32, 42, 55, 75, 122, 132, 150, 180, 200]\n",
        "\n",
        "list1 = [12, 15, 32, 42, 55, 75, 122, 132, 150, 180, 200]\n",
        "for x in list1:\n",
        "  print(x)"
      ],
      "metadata": {
        "colab": {
          "base_uri": "https://localhost:8080/"
        },
        "id": "iwh_wFE9GPts",
        "outputId": "4913ec7c-9388-4111-88c5-e048dc4c16ba"
      },
      "execution_count": null,
      "outputs": [
        {
          "output_type": "stream",
          "name": "stdout",
          "text": [
            "12\n",
            "15\n",
            "32\n",
            "42\n",
            "55\n",
            "75\n",
            "122\n",
            "132\n",
            "150\n",
            "180\n",
            "200\n"
          ]
        }
      ]
    },
    {
      "cell_type": "code",
      "source": [
        "#Accept a number n from the user and print its multiplication table\n",
        "\n",
        "c = int(input(\"Enter a number : \"))\n",
        "for x in range(1, 11):\n",
        "  print(c, \" X \", x, \"=\", c * x)"
      ],
      "metadata": {
        "colab": {
          "base_uri": "https://localhost:8080/"
        },
        "id": "F4MqWSJ0GtiQ",
        "outputId": "f43c71b2-0da2-42ce-a304-bb88718b87f1"
      },
      "execution_count": null,
      "outputs": [
        {
          "output_type": "stream",
          "name": "stdout",
          "text": [
            "Enter a number : 5\n",
            "5  X  1 = 5\n",
            "5  X  2 = 10\n",
            "5  X  3 = 15\n",
            "5  X  4 = 20\n",
            "5  X  5 = 25\n",
            "5  X  6 = 30\n",
            "5  X  7 = 35\n",
            "5  X  8 = 40\n",
            "5  X  9 = 45\n",
            "5  X  10 = 50\n"
          ]
        }
      ]
    },
    {
      "cell_type": "code",
      "source": [
        "#Use the enumerate function to print the elements of this list along with the indices:\n",
        "grocery = ['bread', 'milk', 'butter']\n",
        "\n",
        "for ine, lists in enumerate(grocery):\n",
        "  print(\"index \" + str(ine) + \" : \" + str(lists))"
      ],
      "metadata": {
        "colab": {
          "base_uri": "https://localhost:8080/"
        },
        "id": "1Ghj7XBoGypq",
        "outputId": "e75426f4-88a3-43b7-9e4e-4a8664e4e214"
      },
      "execution_count": null,
      "outputs": [
        {
          "output_type": "stream",
          "name": "stdout",
          "text": [
            "index 0 : bread\n",
            "index 1 : milk\n",
            "index 2 : butter\n"
          ]
        }
      ]
    },
    {
      "cell_type": "code",
      "source": [
        "#Take a number n from the user and find the sum of all numbers between 1 to n.\n",
        "n = int(input(\"Enter a number : \"))\n",
        "for i in n:\n",
        "  c = 1\n",
        "  sum = c + i\n",
        "print(sum)"
      ],
      "metadata": {
        "colab": {
          "base_uri": "https://localhost:8080/",
          "height": 252
        },
        "id": "5PklgmM6G23f",
        "outputId": "e37fb6aa-8933-4531-96b3-cda25163c24a"
      },
      "execution_count": null,
      "outputs": [
        {
          "name": "stdout",
          "output_type": "stream",
          "text": [
            "Enter a number : 5\n"
          ]
        },
        {
          "output_type": "error",
          "ename": "TypeError",
          "evalue": "ignored",
          "traceback": [
            "\u001b[0;31m---------------------------------------------------------------------------\u001b[0m",
            "\u001b[0;31mTypeError\u001b[0m                                 Traceback (most recent call last)",
            "\u001b[0;32m<ipython-input-2-0e6388b09ee0>\u001b[0m in \u001b[0;36m<module>\u001b[0;34m\u001b[0m\n\u001b[1;32m      1\u001b[0m \u001b[0;31m#Take a number n from the user and find the sum of all numbers between 1 to n.\u001b[0m\u001b[0;34m\u001b[0m\u001b[0;34m\u001b[0m\u001b[0;34m\u001b[0m\u001b[0m\n\u001b[1;32m      2\u001b[0m \u001b[0mn\u001b[0m \u001b[0;34m=\u001b[0m \u001b[0mint\u001b[0m\u001b[0;34m(\u001b[0m\u001b[0minput\u001b[0m\u001b[0;34m(\u001b[0m\u001b[0;34m\"Enter a number : \"\u001b[0m\u001b[0;34m)\u001b[0m\u001b[0;34m)\u001b[0m\u001b[0;34m\u001b[0m\u001b[0;34m\u001b[0m\u001b[0m\n\u001b[0;32m----> 3\u001b[0;31m \u001b[0;32mfor\u001b[0m \u001b[0mi\u001b[0m \u001b[0;32min\u001b[0m \u001b[0mn\u001b[0m\u001b[0;34m:\u001b[0m\u001b[0;34m\u001b[0m\u001b[0;34m\u001b[0m\u001b[0m\n\u001b[0m\u001b[1;32m      4\u001b[0m   \u001b[0mc\u001b[0m \u001b[0;34m=\u001b[0m \u001b[0;36m1\u001b[0m\u001b[0;34m\u001b[0m\u001b[0;34m\u001b[0m\u001b[0m\n\u001b[1;32m      5\u001b[0m   \u001b[0msum\u001b[0m \u001b[0;34m=\u001b[0m \u001b[0mc\u001b[0m \u001b[0;34m+\u001b[0m \u001b[0mi\u001b[0m\u001b[0;34m\u001b[0m\u001b[0;34m\u001b[0m\u001b[0m\n",
            "\u001b[0;31mTypeError\u001b[0m: 'int' object is not iterable"
          ]
        }
      ]
    },
    {
      "cell_type": "code",
      "source": [
        "#Create a sequence of numbers from 3 to 5, and print each item in the sequence.\n",
        "for i in range(3, 6):\n",
        "  print(i)"
      ],
      "metadata": {
        "colab": {
          "base_uri": "https://localhost:8080/"
        },
        "id": "1gD0oXpeG4i1",
        "outputId": "ec920766-7f19-430a-bc8f-f5d25319c84f"
      },
      "execution_count": null,
      "outputs": [
        {
          "output_type": "stream",
          "name": "stdout",
          "text": [
            "3\n",
            "4\n",
            "5\n"
          ]
        }
      ]
    },
    {
      "cell_type": "code",
      "source": [
        "#Create a sequence of numbers from 3 to 19, but increment by 2 instead of 1.\n",
        "for x in range(3, 20, 2):\n",
        "  print(x)"
      ],
      "metadata": {
        "colab": {
          "base_uri": "https://localhost:8080/"
        },
        "id": "7f_LIb-HG6Fs",
        "outputId": "646c04a0-3b5e-4132-f7ea-e27e9ccb12e8"
      },
      "execution_count": null,
      "outputs": [
        {
          "output_type": "stream",
          "name": "stdout",
          "text": [
            "3\n",
            "5\n",
            "7\n",
            "9\n",
            "11\n",
            "13\n",
            "15\n",
            "17\n",
            "19\n"
          ]
        }
      ]
    },
    {
      "cell_type": "code",
      "source": [
        "#Print the letters of the string \"Python\" in the same line:\n",
        "  #Using a simple for loop\n",
        "  #Using the range function\n",
        "\n",
        "for x in \"Python\":\n",
        "  print(x)\n",
        "\n",
        "\n",
        "\n",
        "for i in list(range())"
      ],
      "metadata": {
        "colab": {
          "base_uri": "https://localhost:8080/"
        },
        "id": "wZSgiWpuG9vS",
        "outputId": "9572d253-bf2d-415e-9657-fe8eca4b27a8"
      },
      "execution_count": null,
      "outputs": [
        {
          "output_type": "stream",
          "name": "stdout",
          "text": [
            "P\n",
            "y\n",
            "t\n",
            "h\n",
            "o\n",
            "n\n"
          ]
        }
      ]
    },
    {
      "cell_type": "code",
      "source": [
        "z = 6\n",
        "if z%2 == 0:\n",
        "  print(\"z is divisible by 2\")\n",
        "elif z%3 == 0:\n",
        "  print(\"z is divisible by 3\")\n",
        "else:\n",
        "  print(\"z is not divisible by 2 nor by 3\")"
      ],
      "metadata": {
        "colab": {
          "base_uri": "https://localhost:8080/"
        },
        "id": "aAHsZpgHIYh8",
        "outputId": "c393eba9-14c4-45b4-d1a5-dd49b2b75678"
      },
      "execution_count": null,
      "outputs": [
        {
          "output_type": "stream",
          "name": "stdout",
          "text": [
            "z is divisible by 2\n"
          ]
        }
      ]
    },
    {
      "cell_type": "markdown",
      "source": [
        "### Conditional Statement and Dictionaries"
      ],
      "metadata": {
        "id": "uYBUj4DIP53T"
      }
    },
    {
      "cell_type": "code",
      "source": [
        "# Take values of length and breadth of a rectangle from the user and check if it is a square."
      ],
      "metadata": {
        "id": "zomIGL7hJ4QC"
      },
      "execution_count": null,
      "outputs": []
    },
    {
      "cell_type": "code",
      "source": [
        "# Take two int values from the user and print the greatest among them."
      ],
      "metadata": {
        "id": "TjbM-0_9Xz5N"
      },
      "execution_count": null,
      "outputs": []
    },
    {
      "cell_type": "code",
      "source": [
        "# Write a program to read a candidate's age and determine whether they are eligible to cast their vote."
      ],
      "metadata": {
        "id": "aRZxhF1PXxF7"
      },
      "execution_count": null,
      "outputs": []
    },
    {
      "cell_type": "code",
      "source": [
        "# Write a Python program to add a key to a dictionary.\n",
        "# Sample Dictionary : {0: 10, 1: 20}\n",
        "# Expected Result : {0: 10, 1: 20, 2: 30}"
      ],
      "metadata": {
        "id": "hVeMyWjRXuij"
      },
      "execution_count": null,
      "outputs": []
    },
    {
      "cell_type": "code",
      "source": [
        "# Below are two lists; convert them into a dictionary. keys = ['Ten', 'Twenty', 'Thirty']\n",
        "# values = [10, 20, 30]\n",
        "# Expected output:\n",
        "# {'Ten': 10, 'Twenty': 20, 'Thirty': 30}"
      ],
      "metadata": {
        "id": "TGTT67bgQmCM"
      },
      "execution_count": null,
      "outputs": []
    },
    {
      "cell_type": "code",
      "source": [
        "# Access the value of key 'history'\n",
        "sampleDict = {\n",
        "  \"class\":{\n",
        "  \"student\":{\n",
        "  \"name\":\"Mike\",\n",
        "  \"marks\":{\n",
        "  \"physics\":70,\n",
        "  \"history\":80\n",
        "      }\n",
        "    }\n",
        "  }\n",
        "}\n",
        "\n",
        "# Expected output:\n",
        "# 80"
      ],
      "metadata": {
        "id": "1vYRXU55X4tg"
      },
      "execution_count": null,
      "outputs": []
    },
    {
      "cell_type": "code",
      "source": [
        "# Given the following dictionary:\n",
        "# inventory = {\n",
        "# 'gold' : 500,\n",
        "# 'pouch' : ['flint', 'twine', 'gemstone'],\n",
        "# 'backpack' : ['xylophone','dagger', 'bedroll','bread loaf']\n",
        "# }\n",
        "# Try to do the following:\n",
        "# Add a key to inventory called 'pocket'.\n",
        "# Set the value of 'pocket' to be a list consisting of the strings' seashell', 'strange berry', and 'lint'.\n",
        "# .sort()the items in the list stored under the 'backpack' key.\n",
        "# Then .remove('dagger') from the list of items stored under the 'backpack' key.\n",
        "# Add 50 to the number stored under the 'gold' key."
      ],
      "metadata": {
        "id": "cER6j4VBYJSW"
      },
      "execution_count": null,
      "outputs": []
    },
    {
      "cell_type": "code",
      "source": [
        "numbers = [20, 40]\n",
        "item = [\"tables\", \"chairs\"]\n",
        "for i in numbers:\n",
        "  for y in item:\n",
        "    print(x, y)"
      ],
      "metadata": {
        "colab": {
          "base_uri": "https://localhost:8080/"
        },
        "id": "tevNy1S59pSI",
        "outputId": "245b4bc5-28c1-4697-c2b8-101c1f6b2587"
      },
      "execution_count": null,
      "outputs": [
        {
          "output_type": "stream",
          "name": "stdout",
          "text": [
            "102 tables\n",
            "102 chairs\n",
            "102 tables\n",
            "102 chairs\n"
          ]
        }
      ]
    },
    {
      "cell_type": "code",
      "source": [
        "for i in range(0,5):\n",
        "  print(i)"
      ],
      "metadata": {
        "colab": {
          "base_uri": "https://localhost:8080/"
        },
        "id": "ZGnOkufCXKGv",
        "outputId": "ed2e8d60-36d7-4062-a75c-103e37e93a72"
      },
      "execution_count": null,
      "outputs": [
        {
          "output_type": "stream",
          "name": "stdout",
          "text": [
            "0\n",
            "1\n",
            "2\n",
            "3\n",
            "4\n"
          ]
        }
      ]
    },
    {
      "cell_type": "markdown",
      "source": [
        "### Functions, Methods and Packages"
      ],
      "metadata": {
        "id": "FD4xNLM6QIew"
      }
    },
    {
      "cell_type": "code",
      "source": [],
      "metadata": {
        "id": "LEDTKFnZQIe5"
      },
      "execution_count": null,
      "outputs": []
    },
    {
      "cell_type": "code",
      "source": [],
      "metadata": {
        "id": "zNg4iMt0QlYr"
      },
      "execution_count": null,
      "outputs": []
    },
    {
      "cell_type": "markdown",
      "source": [
        "### Session: Fundamentals of Python and NumPy"
      ],
      "metadata": {
        "id": "7DbEVy5JQTOJ"
      }
    },
    {
      "cell_type": "code",
      "source": [],
      "metadata": {
        "id": "waRYwj6KQTOS"
      },
      "execution_count": null,
      "outputs": []
    },
    {
      "cell_type": "code",
      "source": [],
      "metadata": {
        "id": "B-BTVnM_QkWc"
      },
      "execution_count": null,
      "outputs": []
    },
    {
      "cell_type": "markdown",
      "source": [
        "### Array, Vectors & Matrices"
      ],
      "metadata": {
        "id": "GG0vDhRWQTc8"
      }
    },
    {
      "cell_type": "code",
      "source": [],
      "metadata": {
        "id": "lbGF8ShcQTc8"
      },
      "execution_count": null,
      "outputs": []
    },
    {
      "cell_type": "code",
      "source": [],
      "metadata": {
        "id": "WZYgouuZQj6w"
      },
      "execution_count": null,
      "outputs": []
    },
    {
      "cell_type": "markdown",
      "source": [
        "### Notebook: Introduction to Numpy"
      ],
      "metadata": {
        "id": "qLRKXTjBQTo-"
      }
    },
    {
      "cell_type": "code",
      "source": [],
      "metadata": {
        "id": "L5HKWRkuQjDc"
      },
      "execution_count": null,
      "outputs": []
    },
    {
      "cell_type": "code",
      "source": [],
      "metadata": {
        "id": "m83JL8YrQizp"
      },
      "execution_count": null,
      "outputs": []
    },
    {
      "cell_type": "markdown",
      "source": [
        "### Functions, Methods and Packages"
      ],
      "metadata": {
        "id": "wRivvXnpQWbB"
      }
    },
    {
      "cell_type": "code",
      "source": [],
      "metadata": {
        "id": "DTVZT41xQWbB"
      },
      "execution_count": null,
      "outputs": []
    },
    {
      "cell_type": "code",
      "source": [],
      "metadata": {
        "id": "4bHHGF0kQTo_"
      },
      "execution_count": null,
      "outputs": []
    },
    {
      "cell_type": "markdown",
      "source": [
        "## Intro to Data Science Week 1"
      ],
      "metadata": {
        "id": "Cj7gtKPnHcE2"
      }
    },
    {
      "cell_type": "code",
      "source": [],
      "metadata": {
        "id": "vMZ4H_gTHiva"
      },
      "execution_count": null,
      "outputs": []
    },
    {
      "cell_type": "code",
      "source": [],
      "metadata": {
        "id": "pIGs_oIAHiqY"
      },
      "execution_count": null,
      "outputs": []
    },
    {
      "cell_type": "code",
      "source": [],
      "metadata": {
        "id": "J7Kg4FhTHr4w"
      },
      "execution_count": null,
      "outputs": []
    },
    {
      "cell_type": "code",
      "source": [],
      "metadata": {
        "id": "MuIuGQT4HiXS"
      },
      "execution_count": null,
      "outputs": []
    },
    {
      "cell_type": "markdown",
      "source": [
        "## Week 2"
      ],
      "metadata": {
        "id": "1lVA9720HqB-"
      }
    },
    {
      "cell_type": "code",
      "source": [],
      "metadata": {
        "id": "DoGV6aIjHs7v"
      },
      "execution_count": null,
      "outputs": []
    },
    {
      "cell_type": "code",
      "source": [],
      "metadata": {
        "id": "mWo3q28tHs2D"
      },
      "execution_count": null,
      "outputs": []
    },
    {
      "cell_type": "markdown",
      "source": [
        "## Week 3"
      ],
      "metadata": {
        "id": "IojqRhVSHvnH"
      }
    },
    {
      "cell_type": "code",
      "source": [],
      "metadata": {
        "id": "HgRmv7PHH6QT"
      },
      "execution_count": null,
      "outputs": []
    },
    {
      "cell_type": "code",
      "source": [],
      "metadata": {
        "id": "fPHusMPLIhgQ"
      },
      "execution_count": null,
      "outputs": []
    },
    {
      "cell_type": "code",
      "source": [],
      "metadata": {
        "id": "tIv5x27kHxTY"
      },
      "execution_count": null,
      "outputs": []
    },
    {
      "cell_type": "code",
      "source": [],
      "metadata": {
        "id": "3dbPxj68H1pj"
      },
      "execution_count": null,
      "outputs": []
    },
    {
      "cell_type": "markdown",
      "source": [
        "## Week 4"
      ],
      "metadata": {
        "id": "mRzKycS-H2OJ"
      }
    },
    {
      "cell_type": "code",
      "source": [],
      "metadata": {
        "id": "QbkUKm0_H5uj"
      },
      "execution_count": null,
      "outputs": []
    },
    {
      "cell_type": "code",
      "source": [],
      "metadata": {
        "id": "vCPSChjBH5il"
      },
      "execution_count": null,
      "outputs": []
    },
    {
      "cell_type": "code",
      "source": [],
      "metadata": {
        "id": "Jpr_WOlhH9aa"
      },
      "execution_count": null,
      "outputs": []
    },
    {
      "cell_type": "code",
      "source": [],
      "metadata": {
        "id": "pAQEd2yXH5e1"
      },
      "execution_count": null,
      "outputs": []
    },
    {
      "cell_type": "markdown",
      "source": [
        "## Week 5"
      ],
      "metadata": {
        "id": "iQ11O9RiH7uS"
      }
    },
    {
      "cell_type": "code",
      "source": [],
      "metadata": {
        "id": "mg8w0YnyH-oG"
      },
      "execution_count": null,
      "outputs": []
    },
    {
      "cell_type": "code",
      "source": [],
      "metadata": {
        "id": "S08ivu7EH-e-"
      },
      "execution_count": null,
      "outputs": []
    },
    {
      "cell_type": "code",
      "source": [],
      "metadata": {
        "id": "TkddCzaYH-ZT"
      },
      "execution_count": null,
      "outputs": []
    },
    {
      "cell_type": "code",
      "source": [],
      "metadata": {
        "id": "C5RgNcc1H-Rz"
      },
      "execution_count": null,
      "outputs": []
    },
    {
      "cell_type": "markdown",
      "source": [
        "## Quiz 1"
      ],
      "metadata": {
        "id": "81AcdAePIAfY"
      }
    },
    {
      "cell_type": "code",
      "source": [],
      "metadata": {
        "id": "PLKbVWdnIFTS"
      },
      "execution_count": null,
      "outputs": []
    },
    {
      "cell_type": "code",
      "source": [],
      "metadata": {
        "id": "YUCWSRq9IFg4"
      },
      "execution_count": null,
      "outputs": []
    },
    {
      "cell_type": "code",
      "source": [],
      "metadata": {
        "id": "nUrKCdqoIFZZ"
      },
      "execution_count": null,
      "outputs": []
    },
    {
      "cell_type": "code",
      "source": [],
      "metadata": {
        "id": "w_HmxxmBIKsk"
      },
      "execution_count": null,
      "outputs": []
    },
    {
      "cell_type": "markdown",
      "source": [
        "## Quiz 2"
      ],
      "metadata": {
        "id": "eokGVudNILLX"
      }
    },
    {
      "cell_type": "code",
      "source": [],
      "metadata": {
        "id": "v7PhpXewILLY"
      },
      "execution_count": null,
      "outputs": []
    },
    {
      "cell_type": "code",
      "source": [],
      "metadata": {
        "id": "ujl3o2ZGIN7V"
      },
      "execution_count": null,
      "outputs": []
    },
    {
      "cell_type": "code",
      "source": [],
      "metadata": {
        "id": "gzMebftcILLa"
      },
      "execution_count": null,
      "outputs": []
    },
    {
      "cell_type": "code",
      "source": [],
      "metadata": {
        "id": "t9RYI7SpILLa"
      },
      "execution_count": null,
      "outputs": []
    },
    {
      "cell_type": "markdown",
      "source": [
        "## Datathon"
      ],
      "metadata": {
        "id": "E3qT--TyIPvT"
      }
    },
    {
      "cell_type": "code",
      "source": [],
      "metadata": {
        "id": "bRFIgfGjIToT"
      },
      "execution_count": null,
      "outputs": []
    },
    {
      "cell_type": "code",
      "source": [],
      "metadata": {
        "id": "s6vXyy_zIUEn"
      },
      "execution_count": null,
      "outputs": []
    },
    {
      "cell_type": "code",
      "source": [],
      "metadata": {
        "id": "Qt8YGZAUIT4A"
      },
      "execution_count": null,
      "outputs": []
    },
    {
      "cell_type": "code",
      "source": [],
      "metadata": {
        "id": "Nr8uOm25ITvs"
      },
      "execution_count": null,
      "outputs": []
    }
  ]
}